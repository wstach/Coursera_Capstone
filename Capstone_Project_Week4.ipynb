{
 "cells": [
  {
   "cell_type": "markdown",
   "metadata": {},
   "source": [
    "# Capstone Project - The Battle of Neighborhood"
   ]
  },
  {
   "cell_type": "markdown",
   "metadata": {},
   "source": [
    "## Choosing a location for a restaurant in Paris "
   ]
  },
  {
   "cell_type": "markdown",
   "metadata": {},
   "source": [
    "### Introduction"
   ]
  },
  {
   "cell_type": "markdown",
   "metadata": {},
   "source": [
    "#### Background"
   ]
  },
  {
   "cell_type": "markdown",
   "metadata": {},
   "source": [
    "Choosing a location for a business is difficult yet critical decision that may have a huge impact on the business profitability. This is especially important for restaurants as customers often use proximity as a very important factor in making decisions where to eat out. Therefore, for a restaurant to be successful it is crucial to understand the neighbourhood profile to be able to adjust the service and menu to meet the clients' needs and, in turn, to make the restaruant profitable. \n",
    "\n",
    "This project focuses on the capital city of France. The city of Paris is divided into twenty administrative districts, arrondissements municipaux, referred to later in this document interchangeably as arrondissements or districts. These districts will be described using different features and then clustered to provide useful insights about their profiles and to find similar/dissimilar groups.\n"
   ]
  },
  {
   "cell_type": "markdown",
   "metadata": {},
   "source": [
    "#### Problem"
   ]
  },
  {
   "cell_type": "markdown",
   "metadata": {},
   "source": [
    "This project aims at segmenting and clustering the arrondissements of Paris to find similarities between districts as well as create their profiles using features that may be interested for restaurants owners or people who plan to open a restaurant. Data that may be useful for this problem include both socio-economic and socio-demographic data. In addition, foursquare places database will be used to add information about existing businesses in each district. "
   ]
  },
  {
   "cell_type": "markdown",
   "metadata": {},
   "source": [
    "#### Audience"
   ]
  },
  {
   "cell_type": "markdown",
   "metadata": {},
   "source": [
    "The results of this project may be useful to:\n",
    "- New/future business owners to help them deciding in which district they should open a business or how to choose the restaurant type and menu to best address the local needs \n",
    "- Existing business owners that are considering either moving to a different arrondissement or opening another location. If their current business is successful, they may want to consider opening a restaurant in a similar district. If not, clustering may provide useful insights on possible modification in the target market to make the business more profitable or identify potentially better locations.\n"
   ]
  },
  {
   "cell_type": "markdown",
   "metadata": {},
   "source": [
    "### Data"
   ]
  },
  {
   "cell_type": "markdown",
   "metadata": {},
   "source": [
    "#### Overview"
   ]
  },
  {
   "cell_type": "markdown",
   "metadata": {},
   "source": [
    "I searched in the Internet for potentially useful data. I identified a few data sources listed below. I will be performing web scraping or copy/paste to extract the relevant features. In case of Foursquare places database, I will use my developer account to retrieve relevant venues. "
   ]
  },
  {
   "cell_type": "markdown",
   "metadata": {},
   "source": [
    "Below, there is a list of data sources I found to be used in this project:\n",
    "- https://opendata.paris.fr/explore/dataset/arrondissements/table - This data source includes districts' number and name, longitude and latitude, area, and perimeter \n",
    "\n",
    "- https://en.wikipedia.org/wiki/Arrondissements_of_Paris - This data source includes each district’s population from 1999 and 2005 as well as population density from 2005\n",
    "\n",
    "- https://frenchmoments.eu/arrondissements-of-paris/ - This data source includes each district’s population from 2013, population density, and median household income \n",
    "\n",
    "- https://developer.foursquare.com/ - Foursquare Places Database includes community-based venues data which can be queried for each arrondissement using longitude and latitude values\n"
   ]
  },
  {
   "cell_type": "markdown",
   "metadata": {},
   "source": [
    "### Possible Project Scope Expansions"
   ]
  },
  {
   "cell_type": "markdown",
   "metadata": {},
   "source": [
    "Depending on available time and data availability I am considering adding the following analyses to the project:\n",
    "- Add data regarding number of employees per district that would be useful to determine potential customers who work in each district. They may be possibly interested in breakfasts and lunches\n",
    "- Comparing the districts in Paris with districts in the second largest city in France, that is Marseille. It could be useful for instance to businesses that want to expand to Marseille in the same way as described in the Potential Clients subsection.\n"
   ]
  },
  {
   "cell_type": "code",
   "execution_count": null,
   "metadata": {},
   "outputs": [],
   "source": []
  }
 ],
 "metadata": {
  "kernelspec": {
   "display_name": "Python 3",
   "language": "python",
   "name": "python3"
  },
  "language_info": {
   "codemirror_mode": {
    "name": "ipython",
    "version": 3
   },
   "file_extension": ".py",
   "mimetype": "text/x-python",
   "name": "python",
   "nbconvert_exporter": "python",
   "pygments_lexer": "ipython3",
   "version": "3.7.4"
  }
 },
 "nbformat": 4,
 "nbformat_minor": 2
}
